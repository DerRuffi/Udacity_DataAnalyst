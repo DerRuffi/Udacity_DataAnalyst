{
 "cells": [
  {
   "cell_type": "code",
   "execution_count": 1,
   "metadata": {},
   "outputs": [],
   "source": [
    "import xml.etree.cElementTree as ET\n",
    "from collections import defaultdict\n",
    "import re\n",
    "import pprint"
   ]
  },
  {
   "cell_type": "markdown",
   "metadata": {},
   "source": [
    "- audit the OSMFILE and change the variable 'mapping' to reflect the changes needed to fix \n",
    "    the unexpected street types to the appropriate ones in the expected list.\n",
    "    You have to add mappings only for the actual problems you find in this OSMFILE,\n",
    "    not a generalized solution, since that may and will depend on the particular area you are auditing.\n",
    "- write the update_name function, to actually fix the street name.\n",
    "    The function takes a string with street name as an argument and should return the fixed name\n",
    "   "
   ]
  },
  {
   "cell_type": "code",
   "execution_count": 16,
   "metadata": {},
   "outputs": [],
   "source": [
    "OSMFILE = \"cuxhaven.osm\"\n",
    "#OSMFILE = \"cuxhaven_sample_50.osm\"\n",
    "#street_type_re = re.compile(r'\\b\\S+\\.?$', re.IGNORECASE)\n",
    "street_type_re = re.compile(r'.*', re.IGNORECASE)\n",
    "\n",
    "#expected = [\"Straße\", \"Weg\", \"Stieg\", \"Gang\", \"Ring\", \"Chaussee\"]\n",
    "\n",
    "# UPDATE THIS VARIABLE\n",
    "streetmapping = { \"Neukloster Str.\": \"Neukloster Straße\",\n",
    "            \"KIefhorst\": \"Kiefhorst\",\n",
    "            \"Kaemmererplatz\": \"Kämmererplatz\"\n",
    "            }\n",
    "\n",
    "\n",
    "def audit_street_type(street_types, street_name):\n",
    "    m = street_type_re.search(street_name)\n",
    "    if m:\n",
    "        street_type = m.group()\n",
    "        #if street_type not in expected:\n",
    "        street_types[street_type].add(street_name)\n",
    "\n",
    "\n",
    "def is_street_name(elem):\n",
    "    return (elem.attrib['k'] == \"addr:street\")\n",
    "\n",
    "\n",
    "def audit(osmfile):\n",
    "    osm_file = open(osmfile, \"r\", encoding=\"utf8\")\n",
    "    street_types = defaultdict(set)\n",
    "    for event, elem in ET.iterparse(osm_file, events=(\"start\",)):\n",
    "\n",
    "        if elem.tag == \"node\" or elem.tag == \"way\":\n",
    "            for tag in elem.iter(\"tag\"):\n",
    "                if is_street_name(tag):\n",
    "                    audit_street_type(street_types, tag.attrib['v'])\n",
    "    osm_file.close()\n",
    "    return street_types\n",
    "\n",
    "#pprint.pprint(dict(audit(OSMFILE))) # print the existing names\n",
    "\n",
    "def update_name(name, streetmapping):\n",
    "    m = street_type_re.search(name)\n",
    "    better_name = name\n",
    "    if m:\n",
    "        better_street_type = streetmapping[m.group()]\n",
    "        better_name = street_type_re.sub(better_street_type, name)\n",
    "    return better_name\n",
    "\n",
    "def update_name_german(name, streetmapping):\n",
    "    better_name_german = name\n",
    "    if name in streetmapping:\n",
    "        better_name_german = streetmapping[name]\n",
    "    return better_name_german"
   ]
  },
  {
   "cell_type": "code",
   "execution_count": 17,
   "metadata": {},
   "outputs": [],
   "source": [
    "#pprint.pprint(dict(audit(OSMFILE))) # print the existing names"
   ]
  },
  {
   "cell_type": "markdown",
   "metadata": {},
   "source": [
    "Street names in german are set together in a quite complicated way. The oficial rules are listed in this reference:\n",
    "\n",
    "https://www.duden.de/sprachwissen/rechtschreibregeln/strassennamen\n",
    "\n",
    "In  nutshell, you can expect all kind of settings, like:\n",
    "\"Hauptstraße\" (general case)\n",
    "\"Leipziger Straße\" (Leipzig is a city, causing an expection to seperate \"Straße\") \n",
    "\"Georg-Büchner-Straße\" (Georg Büchner is a person, causing an expection to use \"-\")\n",
    "\n",
    "To automatize a correction function to check for the applicable rule for a certain street name is very ambicious and would cetainly exceed the time related to this project.\n",
    "\n",
    "Anyhow, we can check for more obvious mistakes, like abbreviations.\n",
    "Abbreviations are in general not allowed in German Streetnames, of course with a few exceptions.\n",
    "The openstreetmap abbreviation list can be found here:\n",
    "\n",
    "https://wiki.openstreetmap.org/wiki/Name_finder:Abbreviations#Deutsch_-_German\n",
    "\n",
    "One can see that abbreviations are either followed by a \".\" (excepection Bhf = Bahnhof = railway station) or written in capital latters. Multiple grouped capital letters are in german only used for this purpose to my knowledge."
   ]
  },
  {
   "cell_type": "code",
   "execution_count": 5,
   "metadata": {},
   "outputs": [
    {
     "name": "stdout",
     "output_type": "stream",
     "text": [
      "{'.': {'Bei St. Wilhadi',\n",
      "       'Beim St.-Johannis-Kloster',\n",
      "       'Bruno-H.-Bürgel-Straße',\n",
      "       'Dr.-Franz-Mertens-Straße',\n",
      "       'E.-L.-Meyn-Straße',\n",
      "       'F.C.-Rode-Weg',\n",
      "       'H.-H.-Grube-Stroot',\n",
      "       'H.-H.-Meier-Straße',\n",
      "       'I. Moorwiese',\n",
      "       'I. Sandereiweg',\n",
      "       'II. Moorwiese',\n",
      "       'II. Sandereiweg',\n",
      "       'III. Sandereiweg',\n",
      "       'Neukloster Str.',\n",
      "       'Prof.-Carl-Langhein-Weg',\n",
      "       'Prof.-Gudrun-Bestmann-Weg',\n",
      "       'St. Pauli',\n",
      "       'St. Petri-Platz',\n",
      "       'St.-Annen-Weg',\n",
      "       'St.-Johannes-Platz',\n",
      "       'St.-Martin-Platz',\n",
      "       'Vorbei e.V, Weg'}}\n"
     ]
    }
   ],
   "source": [
    "#Search for streetnames including \".\"\n",
    "street_type_re = re.compile(r'\\.', re.IGNORECASE)\n",
    "pprint.pprint(dict(audit(OSMFILE))) # print the existing names\n",
    "#the abbreviation \"St.\" stands for \"Sankt\" and is correctly used within this list."
   ]
  },
  {
   "cell_type": "code",
   "execution_count": 6,
   "metadata": {},
   "outputs": [
    {
     "name": "stdout",
     "output_type": "stream",
     "text": [
      "{'Str.': {'Neukloster Str.'}}\n"
     ]
    }
   ],
   "source": [
    "#Search for streetnames including \".\" after word boundary and multiple non-whitespaces\n",
    "street_type_re = re.compile(r'\\b\\S+\\.$', re.IGNORECASE)\n",
    "pprint.pprint(dict(audit(OSMFILE))) # print the existing names"
   ]
  },
  {
   "cell_type": "code",
   "execution_count": 7,
   "metadata": {},
   "outputs": [
    {
     "name": "stdout",
     "output_type": "stream",
     "text": [
      "{}\n"
     ]
    }
   ],
   "source": [
    "#Search for railway station abbreviation\n",
    "street_type_re = re.compile(r'Bhf')\n",
    "pprint.pprint(dict(audit(OSMFILE))) # print the existing names"
   ]
  },
  {
   "cell_type": "markdown",
   "metadata": {},
   "source": [
    "As written above, 2 or more capital letters in a row a very unusual in german and might be caused by a mistype."
   ]
  },
  {
   "cell_type": "code",
   "execution_count": 8,
   "metadata": {},
   "outputs": [
    {
     "name": "stdout",
     "output_type": "stream",
     "text": [
      "{'AB': {'ABC-Straße'},\n",
      " 'II': {'Glückauf II', 'II. Sandereiweg', 'II. Moorwiese', 'III. Sandereiweg'},\n",
      " 'IV': {'Christian-IV-Straße', 'An der Packhalle IV'},\n",
      " 'KI': {'KIefhorst'},\n",
      " 'VI': {'An der Packhalle VI'}}\n"
     ]
    }
   ],
   "source": [
    "street_type_re = re.compile(r'[A-Z]{2}')\n",
    "pprint.pprint(dict(audit(OSMFILE))) # print the existing names"
   ]
  },
  {
   "cell_type": "markdown",
   "metadata": {},
   "source": [
    "The romatic numbers are likely to be correct part of the street names. So we need to be more precise in checking for mistypes, adding at least 1 additional lower case letter:"
   ]
  },
  {
   "cell_type": "code",
   "execution_count": 9,
   "metadata": {},
   "outputs": [
    {
     "name": "stdout",
     "output_type": "stream",
     "text": [
      "{'KIe': {'KIefhorst'}}\n"
     ]
    }
   ],
   "source": [
    "street_type_re = re.compile(r'[A-Z]{2}[a-z]{1}')\n",
    "pprint.pprint(dict(audit(OSMFILE))) # print the existing names"
   ]
  },
  {
   "cell_type": "code",
   "execution_count": 10,
   "metadata": {},
   "outputs": [
    {
     "name": "stdout",
     "output_type": "stream",
     "text": [
      "{'ae': {'Albrecht-Thaer-Straße',\n",
      "        'Altonaer Straße',\n",
      "        'Am Raaer Moor',\n",
      "        'Bederkesaer Weg',\n",
      "        'Cosmae-Kirchhof',\n",
      "        'Hosaeusweg',\n",
      "        'Kaemmererplatz',\n",
      "        'Rehnaer Straße',\n",
      "        'Rigaer Straße'}}\n"
     ]
    }
   ],
   "source": [
    "#Let's check for the mutated vowel \"ae\", which is correctly written \"ä\"\n",
    "street_type_re = re.compile(r'ae')\n",
    "pprint.pprint(dict(audit(OSMFILE))) # print the existing names\n",
    "#all printed names are correct"
   ]
  },
  {
   "cell_type": "code",
   "execution_count": 11,
   "metadata": {},
   "outputs": [],
   "source": [
    "#update_street = audit(OSMFILE) \n",
    "# print the updated names\n",
    "#for street_type, ways in update_street.items():\n",
    "#    for name in ways:\n",
    "#        better_name = update_name(name, streetmapping)\n",
    "#print (name, \"=>\", better_name)"
   ]
  },
  {
   "cell_type": "code",
   "execution_count": 15,
   "metadata": {},
   "outputs": [
    {
     "name": "stdout",
     "output_type": "stream",
     "text": [
      "Neukloster Straße\n"
     ]
    }
   ],
   "source": [
    "print (update_name_german(\"Neukloster Str.\",streetmapping))"
   ]
  },
  {
   "cell_type": "code",
   "execution_count": null,
   "metadata": {
    "collapsed": true
   },
   "outputs": [],
   "source": []
  }
 ],
 "metadata": {
  "kernelspec": {
   "display_name": "Python 2",
   "language": "python",
   "name": "python2"
  },
  "language_info": {
   "codemirror_mode": {
    "name": "ipython",
    "version": 2
   },
   "file_extension": ".py",
   "mimetype": "text/x-python",
   "name": "python",
   "nbconvert_exporter": "python",
   "pygments_lexer": "ipython2",
   "version": "2.7.15"
  }
 },
 "nbformat": 4,
 "nbformat_minor": 2
}
