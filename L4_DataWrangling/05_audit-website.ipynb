{
 "cells": [
  {
   "cell_type": "code",
   "execution_count": 1,
   "metadata": {},
   "outputs": [],
   "source": [
    "import xml.etree.cElementTree as ET\n",
    "from collections import defaultdict\n",
    "import re\n",
    "import pprint"
   ]
  },
  {
   "cell_type": "markdown",
   "metadata": {},
   "source": [
    "- audit the OSMFILE and change the variable 'mapping' to reflect the changes needed to fix \n",
    "    the unexpected street types to the appropriate ones in the expected list.\n",
    "    You have to add mappings only for the actual problems you find in this OSMFILE,\n",
    "    not a generalized solution, since that may and will depend on the particular area you are auditing.\n",
    "- write the update_name function, to actually fix the street name.\n",
    "    The function takes a string with street name as an argument and should return the fixed name\n",
    "   "
   ]
  },
  {
   "cell_type": "code",
   "execution_count": 2,
   "metadata": {},
   "outputs": [],
   "source": [
    "OSMFILE = \"cuxhaven_sample_50.osm\"\n",
    "#street_type_re = re.compile(r'\\b\\S+\\.?$', re.IGNORECASE)\n",
    "street_type_re = re.compile(r'\\b', re.IGNORECASE)\n",
    "\n",
    "# UPDATE THIS VARIABLE\n",
    "streetmapping = { \"St\": \"Street\",\n",
    "            \"St.\": \"Street\",\n",
    "            \"Ave\": \"Avenue\",\n",
    "            \"Rd.\": \"Road\"\n",
    "            }\n",
    "\n",
    "\n",
    "def audit_street_type(street_types, street_name):\n",
    "    m = street_type_re.search(street_name)\n",
    "    if m:\n",
    "        street_type = m.group()\n",
    "        street_types[street_type].add(street_name)\n",
    "\n",
    "\n",
    "def is_website(elem):\n",
    "    return (elem.attrib['k'] == \"website\")\n",
    "\n",
    "\n",
    "def audit(osmfile):\n",
    "    osm_file = open(osmfile, \"r\")\n",
    "    street_types = defaultdict(set)\n",
    "    for event, elem in ET.iterparse(osm_file, events=(\"start\",)):\n",
    "\n",
    "        if elem.tag == \"node\" or elem.tag == \"way\":\n",
    "            for tag in elem.iter(\"tag\"):\n",
    "                if is_website(tag):\n",
    "                    audit_street_type(street_types, tag.attrib['v'])\n",
    "    osm_file.close()\n",
    "    return street_types\n",
    "\n",
    "#pprint.pprint(dict(audit(OSMFILE))) # print the existing names\n",
    "\n",
    "def update_name(name, streetmapping):\n",
    "    m = street_type_re.search(name)\n",
    "    better_name = name\n",
    "    if m:\n",
    "        better_street_type = streetmapping[m.group()]\n",
    "        better_name = street_type_re.sub(better_street_type, name)\n",
    "    return better_name"
   ]
  },
  {
   "cell_type": "code",
   "execution_count": 3,
   "metadata": {},
   "outputs": [
    {
     "name": "stdout",
     "output_type": "stream",
     "text": [
      "{'': {'http://conath-immobilien.de',\n",
      "      'http://cuxpedia.de/index.php?title=Johannesbrunnen',\n",
      "      'http://denkmalpflege.bremen.de/sixcms/detail.php?template=20_denkmal_wrapper_d&obj=00001632',\n",
      "      'http://denkmalpflege.bremen.de/sixcms/detail.php?template=20_denkmal_wrapper_d&obj=00003086',\n",
      "      'http://denkmalpflege.bremen.de/sixcms/detail.php?template=20_denkmal_wrapper_d&obj=00003279',\n",
      "      'http://hallopizza.de/',\n",
      "      'http://opi-buxtehude.de/',\n",
      "      'http://www.aal-kate.de/',\n",
      "      'http://www.apotheke-buxtehude.de/index.html',\n",
      "      'http://www.automarkt-wulsdorf.de/',\n",
      "      'http://www.aventer.biz',\n",
      "      'http://www.batavia-wedel.de',\n",
      "      'http://www.bestenbostel.de/',\n",
      "      'http://www.bobrink.de/',\n",
      "      'http://www.bohn-segel.de/',\n",
      "      'http://www.cafelohmann.de/',\n",
      "      'http://www.chalet-bremerhaven.de/',\n",
      "      'http://www.cuxcam.de/cams.php?cam=1',\n",
      "      'http://www.der-brillenladen-cuxhaven.de',\n",
      "      'http://www.elbstrand-resort.de/de/Restaurant',\n",
      "      'http://www.ff-hollern-twielenfleth.de/Twielenfleth.html',\n",
      "      'http://www.goldankauf-lewitzki.de/',\n",
      "      'http://www.gtue-debstedt.de/',\n",
      "      'http://www.hammer-heimtex.de/',\n",
      "      'http://www.intersport.de/intersport-voswinkel-bremerhaven',\n",
      "      'http://www.koehler-fahrzeugbau.de',\n",
      "      'http://www.ksk-stade.de',\n",
      "      'http://www.kvg-bus.de/',\n",
      "      'http://www.landgasthof-seebeck.de/',\n",
      "      'http://www.manikowski.de/',\n",
      "      'http://www.nationalparkhaus-wattenmeer.de/wattenmeer-besucherzentrum-cuxhaven',\n",
      "      'http://www.obstparadies-jork.de/',\n",
      "      'http://www.peters-holzbau.de/',\n",
      "      'http://www.sbn-bhv.de/',\n",
      "      'http://www.schuhhaus-ney.de/Ney-in-Cuxhaven',\n",
      "      'http://www.schumacher-dorum.de/',\n",
      "      'http://www.sturmflut-cux.de/',\n",
      "      'http://www.vbgeest.de/',\n",
      "      'http://www.wegenerjachtwerft.de/',\n",
      "      'http://www.wirleben.de/unsere-apotheken/im-marktkauf-cuxhaven/?id=7919',\n",
      "      'http://www.zoll.de',\n",
      "      'http://www.zweirad-tobaben.de/',\n",
      "      'https://www.altes-land-fewo.de',\n",
      "      'www.feuerwehr-kiebitzreihe.de',\n",
      "      'www.feuerwehr-kollmar-bielenberg.de',\n",
      "      'www.odore.de',\n",
      "      'www.schulauer-faehrhaus.de',\n",
      "      'www.schulexpress.de',\n",
      "      'www.streu-krankengym.de',\n",
      "      'www.wm-fahrzeugteile.de'}}\n"
     ]
    }
   ],
   "source": [
    "pprint.pprint(dict(audit(OSMFILE))) # print the existing names"
   ]
  },
  {
   "cell_type": "markdown",
   "metadata": {},
   "source": [
    "Street names in german are set together in a quite complicated way. The oficial rules are listed in this reference:\n",
    "\n",
    "https://www.duden.de/sprachwissen/rechtschreibregeln/strassennamen\n",
    "\n",
    "In  nutshell, you can expect all kind of settings, like:\n",
    "\"Hauptstraße\" (general case)\n",
    "\"Leipziger Straße\" (Leipzig is a city, causing an expection to seperate \"Straße\") \n",
    "\"Georg-Büchner-Straße\" (Georg Büchner is a person, causing an expection to use \"-\")\n",
    "\n",
    "To automatize a correction function to check for the applicable rule for a certain street name is very ambicious and would cetainly exceed the time related to this project.\n",
    "\n",
    "Anyhow, we can check for more obvious mistakes, like abbreviations.\n",
    "Abbreviations are in general not allowed in German Streetnames, of course with a few exceptions.\n",
    "The openstreetmap abbreviation list can be found here:\n",
    "\n",
    "https://wiki.openstreetmap.org/wiki/Name_finder:Abbreviations#Deutsch_-_German\n",
    "\n",
    "One can see that abbreviations are either followed by a \".\" (excepection Bhf = Bahnhof = railway station) or written in capital latters. Multiple grouped capital letters are in german only used for this purpose to my knowledge."
   ]
  },
  {
   "cell_type": "code",
   "execution_count": 9,
   "metadata": {},
   "outputs": [
    {
     "name": "stdout",
     "output_type": "stream",
     "text": [
      "{}\n"
     ]
    }
   ],
   "source": [
    "#Search for post codes not matching the 5-digits format:\n",
    "street_type_re = re.compile(r'[^\\d]{5}', re.IGNORECASE)\n",
    "pprint.pprint(dict(audit(OSMFILE))) # print the existing names"
   ]
  },
  {
   "cell_type": "code",
   "execution_count": null,
   "metadata": {},
   "outputs": [],
   "source": []
  },
  {
   "cell_type": "markdown",
   "metadata": {},
   "source": [
    "As written above, 2 or more capital letters in a row a very unusual in german and might be caused by a mistype."
   ]
  },
  {
   "cell_type": "code",
   "execution_count": 19,
   "metadata": {},
   "outputs": [],
   "source": [
    "#update_street = audit(OSMFILE) \n",
    "# print the updated names\n",
    "#for street_type, ways in update_street.items():\n",
    "#    for name in ways:\n",
    "#        better_name = update_name(name, streetmapping)\n",
    "#print (name, \"=>\", better_name)"
   ]
  },
  {
   "cell_type": "code",
   "execution_count": 22,
   "metadata": {},
   "outputs": [
    {
     "name": "stdout",
     "output_type": "stream",
     "text": [
      "Arsch Street\n"
     ]
    }
   ],
   "source": [
    "print (update_name(\"Arsch St.\",streetmapping))"
   ]
  }
 ],
 "metadata": {
  "kernelspec": {
   "display_name": "Python 3",
   "language": "python",
   "name": "python3"
  },
  "language_info": {
   "codemirror_mode": {
    "name": "ipython",
    "version": 3
   },
   "file_extension": ".py",
   "mimetype": "text/x-python",
   "name": "python",
   "nbconvert_exporter": "python",
   "pygments_lexer": "ipython3",
   "version": "3.6.6"
  }
 },
 "nbformat": 4,
 "nbformat_minor": 2
}
