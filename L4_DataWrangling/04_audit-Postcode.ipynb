{
 "cells": [
  {
   "cell_type": "code",
   "execution_count": 9,
   "metadata": {},
   "outputs": [],
   "source": [
    "import xml.etree.cElementTree as ET\n",
    "from collections import defaultdict\n",
    "import re\n",
    "import pprint"
   ]
  },
  {
   "cell_type": "code",
   "execution_count": 11,
   "metadata": {},
   "outputs": [],
   "source": [
    "OSMFILE = \"cuxhaven.osm\"\n",
    "#street_type_re = re.compile(r'\\b\\S+\\.?$', re.IGNORECASE)\n",
    "street_type_re = re.compile(r'.*', re.IGNORECASE)\n",
    "\n",
    "# UPDATE THIS VARIABLE\n",
    "streetmapping = { \"St\": \"Street\",\n",
    "            \"St.\": \"Street\",\n",
    "            \"Ave\": \"Avenue\",\n",
    "            \"Rd.\": \"Road\"\n",
    "            }\n",
    "\n",
    "\n",
    "def audit_street_type(street_types, street_name):\n",
    "    m = street_type_re.search(street_name)\n",
    "    if m:\n",
    "        street_type = m.group()\n",
    "        street_types[street_type].add(street_name)\n",
    "\n",
    "\n",
    "def is_postcode(elem):\n",
    "    return (elem.attrib['k'] == \"addr:postcode\")\n",
    "\n",
    "\n",
    "def audit(osmfile):\n",
    "    osm_file = open(osmfile, \"r\", encoding=\"utf8\")\n",
    "    street_types = defaultdict(set)\n",
    "    for event, elem in ET.iterparse(osm_file, events=(\"start\",)):\n",
    "\n",
    "        if elem.tag == \"node\" or elem.tag == \"way\":\n",
    "            for tag in elem.iter(\"tag\"):\n",
    "                if is_postcode(tag):\n",
    "                    audit_street_type(street_types, tag.attrib['v'])\n",
    "    osm_file.close()\n",
    "    return street_types\n",
    "\n",
    "#pprint.pprint(dict(audit(OSMFILE))) # print the existing names\n",
    "\n",
    "def update_name(name, streetmapping):\n",
    "    m = street_type_re.search(name)\n",
    "    better_name = name\n",
    "    if m:\n",
    "        better_street_type = streetmapping[m.group()]\n",
    "        better_name = street_type_re.sub(better_street_type, name)\n",
    "    return better_name"
   ]
  },
  {
   "cell_type": "code",
   "execution_count": 12,
   "metadata": {},
   "outputs": [
    {
     "name": "stdout",
     "output_type": "stream",
     "text": [
      "102\n"
     ]
    }
   ],
   "source": [
    "postcode1 = dict(audit(OSMFILE))\n",
    "#pprint.pprint(postcode1) # print the existing names\n",
    "print(len(postcode1))"
   ]
  },
  {
   "cell_type": "code",
   "execution_count": 13,
   "metadata": {},
   "outputs": [
    {
     "name": "stdout",
     "output_type": "stream",
     "text": [
      "{}\n"
     ]
    }
   ],
   "source": [
    "#Search for post codes not matching the 5-digits format:\n",
    "street_type_re = re.compile(r'[^\\d]{5}', re.IGNORECASE)\n",
    "pprint.pprint(dict(audit(OSMFILE))) # print the existing names"
   ]
  },
  {
   "cell_type": "code",
   "execution_count": 19,
   "metadata": {
    "collapsed": true
   },
   "outputs": [],
   "source": [
    "#update_street = audit(OSMFILE) \n",
    "# print the updated names\n",
    "#for street_type, ways in update_street.items():\n",
    "#    for name in ways:\n",
    "#        better_name = update_name(name, streetmapping)\n",
    "#print (name, \"=>\", better_name)"
   ]
  }
 ],
 "metadata": {
  "kernelspec": {
   "display_name": "Python 3",
   "language": "python",
   "name": "python3"
  },
  "language_info": {
   "codemirror_mode": {
    "name": "ipython",
    "version": 3
   },
   "file_extension": ".py",
   "mimetype": "text/x-python",
   "name": "python",
   "nbconvert_exporter": "python",
   "pygments_lexer": "ipython3",
   "version": "3.6.6"
  }
 },
 "nbformat": 4,
 "nbformat_minor": 2
}
